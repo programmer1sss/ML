{
 "cells": [
  {
   "cell_type": "markdown",
   "metadata": {},
   "source": [
    "## 1.Подготовка "
   ]
  },
  {
   "cell_type": "code",
   "execution_count": 1,
   "metadata": {},
   "outputs": [],
   "source": [
    "import pandas as pd\n",
    "import matplotlib.pyplot as plt\n",
    "import sklearn.preprocessing as sk_preprocessing\n",
    "import sklearn.linear_model as sk_linear_models\n",
    "import sklearn.metrics as sk_metrics\n",
    "import sklearn.model_selection as sk_model_selection\n",
    "import numpy as np\n",
    "import seaborn as sns\n",
    "\n",
    "\n"
   ]
  },
  {
   "cell_type": "markdown",
   "metadata": {},
   "source": [
    "Для универсальности выполнения задачи создадим функцию . "
   ]
  },
  {
   "cell_type": "markdown",
   "metadata": {},
   "source": [
    "Аргументы функции : X-независимая переменная ,y-зависимая переменная ,Max_degree-максимальная степень до которой  функция будет считать MSE, k-количество случайных разделения данных и обучений  на train и test  "
   ]
  },
  {
   "cell_type": "code",
   "execution_count": 2,
   "metadata": {},
   "outputs": [],
   "source": [
    "def Search_Optimal_degree(X, y,Max_degree,k):\n",
    "    MSE=[]\n",
    "    for degree in range(1,Max_degree+1):\n",
    "        result=[]\n",
    "        l_test=[]\n",
    "        l_train=[]\n",
    "        for n in range(k):\n",
    "            \n",
    "            X_train, X_test, y_train, y_test = sk_model_selection.train_test_split(X, y, shuffle = True) #случайное разделения данных на train и test \n",
    "            polynomial_transformer = sk_preprocessing.PolynomialFeatures(degree=degree) #добавления полинома\n",
    "            X_transformed_train = polynomial_transformer.fit_transform(X_train)\n",
    "            model = sk_linear_models.LinearRegression()\n",
    "            model.fit(X_transformed_train , y_train) #обучения линейной регрессии \n",
    "            y_train_predicted = model.predict(X_transformed_train)\n",
    "            X_transformed_test=polynomial_transformer.fit_transform(X_test)\n",
    "            y_test_predicted = model.predict( X_transformed_test)\n",
    "            \n",
    "            l_test.append(sk_metrics.mean_squared_error(y_test, y_test_predicted))\n",
    "            l_train.append(sk_metrics.mean_squared_error(y_train, y_train_predicted))\n",
    "        \n",
    "        result.append(np.mean(l_test) )# записываем среднее MSE test случайных разделения данных и обучений\n",
    "        result.append(np.mean(l_train) )# записываем среднее MSE train случайных разделения данных и обучений\n",
    "        result.append(degree)\n",
    "#         result.append(y_train_predicted)\n",
    "#         result.append(y_test_predict)\n",
    "        \n",
    "        MSE.append(result)\n",
    "    columns=[ 'MSE_test','MSE_train','degree']\n",
    "    df_result = pd.DataFrame(MSE, columns=columns)\n",
    "    return df_result\n",
    "    \n"
   ]
  },
  {
   "cell_type": "markdown",
   "metadata": {},
   "source": [
    "## 2. Работа с данными "
   ]
  },
  {
   "cell_type": "markdown",
   "metadata": {},
   "source": [
    "2.1 Возмем ранее изученые данные и проверим на  наличии связи с полиноминальном регрессией"
   ]
  },
  {
   "cell_type": "code",
   "execution_count": 3,
   "metadata": {},
   "outputs": [],
   "source": [
    "df = pd.read_csv(\"https://raw.githubusercontent.com/programmer1sss/ML/main/Data/advertising.csv\")\n",
    "X = df[[\"radio\"]]\n",
    "y = df[[\"sales\"]]\n",
    "\n",
    "\n"
   ]
  },
  {
   "cell_type": "markdown",
   "metadata": {},
   "source": [
    "2.2 Немного визуализации "
   ]
  },
  {
   "cell_type": "code",
   "execution_count": 4,
   "metadata": {},
   "outputs": [
    {
     "data": {
      "text/plain": [
       "<matplotlib.collections.PathCollection at 0x1b16d730>"
      ]
     },
     "execution_count": 4,
     "metadata": {},
     "output_type": "execute_result"
    },
    {
     "data": {
      "image/png": "[encoded data removed]",
      "text/plain": [
       "<Figure size 432x288 with 1 Axes>"
      ]
     },
     "metadata": {
      "needs_background": "light"
     },
     "output_type": "display_data"
    }
   ],
   "source": [
    "plt.scatter(X, y)"
   ]
  },
  {
   "cell_type": "code",
   "execution_count": null,
   "metadata": {},
   "outputs": [],
   "source": []
  },
  {
   "cell_type": "markdown",
   "metadata": {},
   "source": [
    "2.3 Построения модели и вывод данных "
   ]
  },
  {
   "cell_type": "code",
   "execution_count": 5,
   "metadata": {},
   "outputs": [
    {
     "name": "stdout",
     "output_type": "stream",
     "text": [
      "     MSE_test  MSE_train  degree\n",
      "0   17.126657  18.445515       1\n",
      "1   18.483939  18.082406       2\n",
      "2   20.033953  17.535094       3\n",
      "3   18.731149  18.024633       4\n",
      "4   21.329888  17.300539       5\n",
      "5   19.737378  17.699675       6\n",
      "6   17.456869  18.245679       7\n",
      "7   19.533767  17.587306       8\n",
      "8   24.514052  16.136732       9\n",
      "9   19.750370  17.574823      10\n",
      "10  22.547127  16.462538      11\n",
      "11  19.680307  17.259005      12\n",
      "12  21.041154  17.333683      13\n",
      "13  24.218636  16.453556      14\n",
      "14  21.611262  17.164541      15\n",
      "15  24.081141  16.706533      16\n",
      "16  21.700179  17.109682      17\n",
      "17  22.873505  16.823525      18\n",
      "18  18.085523  18.053792      19\n",
      "19  19.677418  17.629560      20\n"
     ]
    }
   ],
   "source": [
    "\n",
    "k=10 # количество  обучений модели с случайным разделения по каждой степени \n",
    "Max_degree=20 #b максимальная степень проверки данных\n",
    "df_Search =Search_Optimal_degree(X, y,Max_degree,k)\n",
    "print(df_Search)"
   ]
  },
  {
   "cell_type": "code",
   "execution_count": 6,
   "metadata": {},
   "outputs": [
    {
     "data": {
      "text/plain": [
       "MSE_test     24.514052\n",
       "MSE_train    16.136732\n",
       "degree        9.000000\n",
       "Name: 8, dtype: float64"
      ]
     },
     "execution_count": 6,
     "metadata": {},
     "output_type": "execute_result"
    }
   ],
   "source": [
    "\n",
    "df_Search.iloc[df_Search['MSE_train'].argmin()] # Находим минимальный MSE_train и возврашаем MSE_train и степень"
   ]
  },
  {
   "cell_type": "markdown",
   "metadata": {},
   "source": [
    "2.4 Вывод : на MSE_train выделяется небольшая зависимость от степени  и минимальная ошибика на степени  \"12\""
   ]
  },
  {
   "cell_type": "markdown",
   "metadata": {},
   "source": [
    "## 3 Визуализация модели с полученной степнью "
   ]
  },
  {
   "cell_type": "code",
   "execution_count": 7,
   "metadata": {},
   "outputs": [
    {
     "data": {
      "text/plain": [
       "<function matplotlib.pyplot.show(close=None, block=None)>"
      ]
     },
     "execution_count": 7,
     "metadata": {},
     "output_type": "execute_result"
    },
    {
     "data": {
      "image/png": "[encoded data removed]",
      "text/plain": [
       "<Figure size 432x288 with 1 Axes>"
      ]
     },
     "metadata": {
      "needs_background": "light"
     },
     "output_type": "display_data"
    }
   ],
   "source": [
    "X_train, X_test, y_train, y_test = sk_model_selection.train_test_split(X, y, shuffle = True) #случайное разделения данных на train и test \n",
    "polynomial_transformer = sk_preprocessing.PolynomialFeatures(degree=12) #добавления полинома\n",
    "X_transformed_train = polynomial_transformer.fit_transform(X_train)\n",
    "model = sk_linear_models.LinearRegression()\n",
    "model.fit(X_transformed_train , y_train) #обучения линейной регрессии \n",
    "y_train_predicted = model.predict(X_transformed_train)\n",
    "X_transformed_test=polynomial_transformer.fit_transform(X_test)\n",
    "y_test_predict = model.predict( X_transformed_test)\n",
    "plt.scatter(X, y)\n",
    "plt.scatter(X_train, y_train_predicted)\n",
    "plt.show"
   ]
  }
 ],
 "metadata": {
  "kernelspec": {
   "display_name": "Python 3 (ipykernel)",
   "language": "python",
   "name": "python3"
  },
  "language_info": {
   "codemirror_mode": {
    "name": "ipython",
    "version": 3
   },
   "file_extension": ".py",
   "mimetype": "text/x-python",
   "name": "python",
   "nbconvert_exporter": "python",
   "pygments_lexer": "ipython3",
   "version": "3.8.6"
  }
 },
 "nbformat": 4,
 "nbformat_minor": 4
}
